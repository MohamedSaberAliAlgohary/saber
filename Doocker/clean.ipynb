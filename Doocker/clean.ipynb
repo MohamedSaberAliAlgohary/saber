{
 "cells": [
  {
   "cell_type": "code",
   "execution_count": null,
   "metadata": {},
   "outputs": [
    {
     "ename": "",
     "evalue": "",
     "output_type": "error",
     "traceback": [
      "\u001b[1;31mRunning cells with 'Python 3.12.2' requires the ipykernel package.\n",
      "\u001b[1;31mRun the following command to install 'ipykernel' into the Python environment. \n",
      "\u001b[1;31mCommand: '\"c:/Program Files/Python312/python.exe\" -m pip install ipykernel -U --user --force-reinstall'"
     ]
    }
   ],
   "source": [
    "import pandas as pd\n",
    "\n",
    "df = pd.read_csv('books.csv')\n",
    "\n",
    "# Remove rows with missing values\n",
    "df = df.dropna()\n",
    "\n",
    "# Reset the index\n",
    "df = df.reset_index(drop=True)\n",
    "\n",
    "# Drop unnecessary columns\n",
    "df = df[['book_id', 'authors', 'original_title', 'title', 'average_rating', 'ratings_count']]\n",
    "\n",
    "# Filter the dataset for Harry Potter books\n",
    "harry_potter_books = df[df['authors'].str.contains('J.K. Rowling')]\n",
    "\n",
    "# Sort the books by ratings count in descending order\n",
    "harry_potter_books = harry_potter_books.sort_values('ratings_count', ascending=False)\n",
    "\n",
    "####\n",
    "most_selling_books = harry_potter_books[['title', 'ratings_count']].head(5)\n",
    "average_rating = harry_potter_books['average_rating'].mean()\n",
    "# Print the most selling books\n",
    "print(\"Most Selling Books in the Harry Potter Series:\")\n",
    "print(most_selling_books)\n",
    "\n",
    "# Print the average rating\n",
    "print(\"\\nAverage Rating of the Harry Potter Books:\")\n",
    "print(average_rating)"
   ]
  }
 ],
 "metadata": {
  "kernelspec": {
   "display_name": "Python 3",
   "language": "python",
   "name": "python3"
  },
  "language_info": {
   "name": "python",
   "version": "3.12.2"
  }
 },
 "nbformat": 4,
 "nbformat_minor": 2
}
